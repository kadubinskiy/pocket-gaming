{
 "cells": [
  {
   "cell_type": "markdown",
   "id": "62353ed1-ea02-44b2-b956-e72ead5a2667",
   "metadata": {},
   "source": [
    "## Imports"
   ]
  },
  {
   "cell_type": "code",
   "execution_count": null,
   "id": "93538077-905c-4c24-bf38-d1a1aa80714b",
   "metadata": {},
   "outputs": [],
   "source": [
    "from curses import wrapper\n",
    "from random import randint, choice\n",
    "import time\n",
    "\n",
    "import threading\n",
    "from pynput import keyboard\n",
    "### For lightweight version\n",
    "# from IPython.display import clear_output"
   ]
  },
  {
   "cell_type": "markdown",
   "id": "43002e78-8425-47f6-a5b8-e6a3e82bdee3",
   "metadata": {},
   "source": [
    "## Classes"
   ]
  },
  {
   "cell_type": "code",
   "execution_count": 4,
   "id": "48acefad-bc86-49e5-a54d-e416b1f156b4",
   "metadata": {},
   "outputs": [],
   "source": [
    "class GameManager():\n",
    "    def __init__(self):\n",
    "        self.map = False\n",
    "        self.snake = False\n",
    "        self.apple = False\n",
    "\n",
    "    def get_gamefield(self):\n",
    "        return self.map.get_grid()\n",
    "    \n",
    "    def initialise(self):\n",
    "        size = int(input(\"Input Preferred Size\"))\n",
    "        self.map = Map(size)\n",
    "        self.map.create_grid()\n",
    "        self.snake = Snake(self.map)\n",
    "        self.apple = Apple(self.map)\n",
    "\n",
    "        if self.apple:\n",
    "            self.apple.generate_apple_coordinates(self.map)\n",
    "\n",
    "        self.draw_objects()\n",
    "    \n",
    "    def re_initialise(self):\n",
    "        self.map.create_grid()\n",
    "\n",
    "        if self.map.get_grid():\n",
    "            if not self.apple:\n",
    "                self.reset_apple()\n",
    "            # self.map.draw_snake(self.snake)\n",
    "            # self.map.draw_apple(self.apple)\n",
    "\n",
    "    def draw_objects(self):\n",
    "        self.map.draw_snake(self.snake)\n",
    "        self.map.draw_apple(self.apple)\n",
    "\n",
    "    def step(self):\n",
    "        if self.map and self.snake and self.apple:\n",
    "            if self.snake.get_next_point() != self.apple.get_coords():\n",
    "                self.re_initialise()\n",
    "                self.snake.crawl()\n",
    "                self.draw_objects()\n",
    "            else: # self.snake.crawl.get_body_coords()[-1] == self.apple.get_coords()\n",
    "                self.re_initialise()\n",
    "                self.snake.evolve()\n",
    "                self.draw_objects()\n",
    "\n",
    "    def reset_apple(self):\n",
    "        self.apple = Apple(self.map).generate_apple_coordinates(self.map)\n",
    "\n",
    "    def snake_direction(self, direction):\n",
    "        if direction in ['up', 'right', 'down', 'left']:\n",
    "            self.snake.set_head_points(direction)"
   ]
  },
  {
   "cell_type": "code",
   "execution_count": 3,
   "id": "f6714808-0946-413b-9051-3abb07ab71b1",
   "metadata": {},
   "outputs": [],
   "source": [
    "class Map():\n",
    "    def __init__(self, size = 16):\n",
    "        self.size = size\n",
    "        self.apple = False\n",
    "        self.grid = []\n",
    "\n",
    "    def set_apple(apple):\n",
    "        self.apple = apple\n",
    "\n",
    "    def set_grid(grid):\n",
    "        self.grid = grid\n",
    "\n",
    "    def get_grid(self):\n",
    "        return self.grid\n",
    "\n",
    "    def get_apple(self):\n",
    "        return self.apple\n",
    "\n",
    "\n",
    "    ### Functionality\n",
    "    \n",
    "    def create_grid(self):\n",
    "        self.grid = [[' ' for count in range(self.size)] for _ in range(self.size)]\n",
    "\n",
    "    def draw_snake(self, snake):\n",
    "        snake_coords = snake.get_body_coords()\n",
    "        for coords in snake_coords:\n",
    "            \n",
    "            for coord in coords:\n",
    "                if coord < 0 or coord > self.size:\n",
    "                    return 'Game Over'\n",
    "                    \n",
    "            self.grid[coords[0]][coords[1]] = '*'\n",
    "\n",
    "    def draw_apple(self, apple):\n",
    "        y, x = apple.get_coords()\n",
    "        if not y:\n",
    "            return 'Game Won!'\n",
    "        self.grid[y][x] = '*'"
   ]
  },
  {
   "cell_type": "code",
   "execution_count": 3,
   "id": "3117e128-39f6-4c46-a718-d465828b9ade",
   "metadata": {},
   "outputs": [],
   "source": [
    "class Snake():\n",
    "    def __init__(self, map):\n",
    "        self.init_y = int(len(map.get_grid())/2)\n",
    "        self.init_x = self.init_y\n",
    "        self.length = 2\n",
    "        self.head_points = 'up'\n",
    "        self.body_coords = [[self.init_y+1, self.init_x], [self.init_y, self.init_x]]\n",
    "\n",
    "    def set_length(self, length):\n",
    "        self.length = length\n",
    "\n",
    "    def set_body_coords(self, coords):\n",
    "        self.body_coords = coords\n",
    "\n",
    "    def set_head_points(self, direction):\n",
    "        self.head_points = direction\n",
    "\n",
    "    def get_length(self):\n",
    "        return self.length\n",
    "\n",
    "    def get_body_coords(self):\n",
    "        return self.body_coords\n",
    "\n",
    "    def get_head_points(self):\n",
    "        return self.head_points\n",
    "\n",
    "    def get_next_point(self):\n",
    "        if self.head_points == 'up':\n",
    "            return [self.body_coords[-1][0]-1, self.body_coords[-1][1]]\n",
    "        elif self.head_points == 'right':\n",
    "            return [self.body_coords[-1][0], self.body_coords[-1][1]+1]\n",
    "        elif self.head_points == 'down':\n",
    "            return [self.body_coords[-1][0]+1, self.body_coords[-1][1]]\n",
    "        elif self.head_points == 'left':\n",
    "            return [self.body_coords[-1][0], self.body_coords[-1][1]-1]\n",
    "\n",
    "\n",
    "    ### Functionality\n",
    "\n",
    "    def evolve(self):\n",
    "        self.length += 1\n",
    "        self.crawl()\n",
    "\n",
    "    def crawl(self):\n",
    "        if self.length == len(self.body_coords):\n",
    "            self.body_coords.pop(0)\n",
    "\n",
    "        self.body_coords.append(self.get_next_point())"
   ]
  },
  {
   "cell_type": "code",
   "execution_count": 36,
   "id": "7f6cf2b3-457a-4ee5-9fb1-b4980c9686ea",
   "metadata": {},
   "outputs": [],
   "source": [
    "class Apple():\n",
    "    def __init__(self, map):\n",
    "        self.coords = []\n",
    "        self.map = map\n",
    "\n",
    "    def set_coords(coords):\n",
    "        self.coords = coords\n",
    "\n",
    "    def get_coords(self):\n",
    "        return self.coords\n",
    "\n",
    "\n",
    "    ### Functionality\n",
    "    \n",
    "    def generate_apple_coordinates(self, map):\n",
    "        ### Setup\n",
    "        map = self.map.get_grid()\n",
    "        size = len(map)\n",
    "        row_numbers = []\n",
    "        \n",
    "        for rows in range(size):\n",
    "            row_numbers.append(rows)\n",
    "        \n",
    "        ### Execution\n",
    "        for attempts in range(size):\n",
    "            y = choice(row_numbers)\n",
    "            available_slots = []\n",
    "            \n",
    "            for x in range(len(map[y])):\n",
    "                if map[y][x] == ' ':\n",
    "                    available_slots.append(x)\n",
    "    \n",
    "            if len(available_slots) != 0:\n",
    "                break\n",
    "            else:\n",
    "                row_numbers.pop(row_numbers.index(y))\n",
    "                \n",
    "        if len(available_slots) == 0:\n",
    "            return False, 0\n",
    "            \n",
    "        x = available_slots[randint(0, len(available_slots)-1)]\n",
    "        self.coords = [y, x]"
   ]
  },
  {
   "cell_type": "markdown",
   "id": "cfac6764-b2bf-4d9b-b1d7-0934e7a31ca4",
   "metadata": {},
   "source": [
    "## Application"
   ]
  },
  {
   "cell_type": "code",
   "execution_count": 71,
   "id": "03cf9717-b77f-4469-99d6-366c3a7d4b7b",
   "metadata": {},
   "outputs": [
    {
     "name": "stdin",
     "output_type": "stream",
     "text": [
      "Input Preferred Size 16\n"
     ]
    }
   ],
   "source": [
    "game = GameManager()\n",
    "game.initialise()"
   ]
  },
  {
   "cell_type": "code",
   "execution_count": 2,
   "id": "64cac1c8-241e-4fd8-921b-b8c305c2881e",
   "metadata": {},
   "outputs": [],
   "source": [
    "def update_game():\n",
    "    while True:\n",
    "        print(\"\\033[H\\033[J\", end=\"\")\n",
    "        for row in game.get_gamefield():\n",
    "            print(row)\n",
    "            time.sleep(1)\n",
    "            game.step()"
   ]
  },
  {
   "cell_type": "code",
   "execution_count": null,
   "id": "e24091f4-2192-4746-9e51-1d116ce393ed",
   "metadata": {},
   "outputs": [],
   "source": [
    "listener = keyboard.Listener(on_press=game.snake_direction)\n",
    "listener.start()"
   ]
  },
  {
   "cell_type": "code",
   "execution_count": null,
   "id": "d1a620ac-a5d6-4978-8658-042fb007f593",
   "metadata": {},
   "outputs": [],
   "source": [
    "game_thread = threading.Thread(target=update_game)\n",
    "game_thread.start()\n",
    "\n",
    "game_thread.join()\n",
    "listener.join()"
   ]
  },
  {
   "cell_type": "markdown",
   "id": "8478e35a-0fc2-429b-8f4c-dd512b12f982",
   "metadata": {},
   "source": [
    "### Testing "
   ]
  },
  {
   "cell_type": "markdown",
   "id": "d9aed389-6d13-4352-8741-1a3937644c6b",
   "metadata": {},
   "source": [
    "### Apple generation test"
   ]
  },
  {
   "cell_type": "code",
   "execution_count": 31,
   "id": "795e6925-e8b1-4153-85a4-751a7283ac9f",
   "metadata": {},
   "outputs": [
    {
     "name": "stdout",
     "output_type": "stream",
     "text": [
      "['*', '*', '*', '*', '*', '*', '*', '*', '*', '*', '*', '*', '*', '*', '*', '*']\n",
      "['*', '*', '*', '*', '*', '*', '*', '*', '*', '*', '*', '*', '*', '*', '*', '*']\n",
      "['*', '*', '*', '*', '*', '*', '*', '*', '*', '*', '*', '*', '*', '*', '*', '*']\n",
      "['*', '*', '*', '*', '*', '*', '*', '*', '*', '*', '*', '*', '*', '*', '*', '*']\n",
      "['*', '*', '*', '*', '*', '*', '*', '*', '*', '*', '*', '*', '*', '*', '*', '*']\n",
      "['*', '*', '*', '*', '*', '*', '*', '*', '*', '*', '*', '*', '*', '*', '*', '*']\n",
      "['*', '*', '*', '*', '*', '*', '*', '*', '*', '*', '*', '*', '*', '*', '*', '*']\n",
      "['*', '*', '*', '*', '*', '*', '*', '*', '*', '*', '*', '*', '*', '*', '*', '*']\n",
      "['*', '*', '*', '*', '*', '*', '*', '*', '*', '*', '*', '*', '*', '*', '*', '*']\n",
      "['*', '*', '*', '*', '*', '*', '*', '*', '*', '*', '*', '*', '*', '*', '*', '*']\n",
      "['*', '*', '*', '*', '*', '*', '*', '*', '*', '*', '*', '*', '*', '*', '*', '*']\n",
      "['*', '*', '*', '*', '*', '*', '*', '*', '*', '*', '*', '*', '*', '*', '*', '*']\n",
      "['*', '*', '*', '*', '*', '*', '*', '*', '*', '*', '*', '*', '*', '*', '*', '*']\n",
      "['*', '*', '*', '*', '*', '*', '*', '*', '*', '*', '*', '*', '*', '*', '*', '*']\n",
      "['*', '*', '*', '*', '*', '*', '*', '*', '*', '*', '*', '*', '*', '*', '*', '*']\n",
      "['*', '*', '*', '*', '*', '*', '*', '*', '*', '*', '*', '*', '*', '*', '*', '*']\n"
     ]
    }
   ],
   "source": [
    "map = [[' ' for count in range(size)] for _ in range(size)]\n",
    "for i in range(size**2):\n",
    "    y, x = generate_apple_coordinates(map)\n",
    "    map[y][x] = '*'\n",
    "    for row in map:\n",
    "        print(row)\n",
    "    time.sleep(0.1)\n",
    "    clear_output(wait=True)"
   ]
  }
 ],
 "metadata": {
  "kernelspec": {
   "display_name": "Python 3 (ipykernel)",
   "language": "python",
   "name": "python3"
  },
  "language_info": {
   "codemirror_mode": {
    "name": "ipython",
    "version": 3
   },
   "file_extension": ".py",
   "mimetype": "text/x-python",
   "name": "python",
   "nbconvert_exporter": "python",
   "pygments_lexer": "ipython3",
   "version": "3.11.9"
  }
 },
 "nbformat": 4,
 "nbformat_minor": 5
}
